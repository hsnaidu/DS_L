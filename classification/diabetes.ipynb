{
 "cells": [
  {
   "cell_type": "markdown",
   "metadata": {},
   "source": [
    "DIABETES (SUGAR): They are a problem that is occured when the pancreas does not produce enough INSULINE, or when body cannot use the produced INSULINE.\n",
    "* HOW DOES IT AFFECT A PERSON ? \n",
    "1. HEART DISEASE\n",
    "2. VISION LOSS\n",
    "3. KIDNEY DISEASE"
   ]
  },
  {
   "cell_type": "code",
   "execution_count": null,
   "metadata": {},
   "outputs": [],
   "source": [
    "# Library\n"
   ]
  }
 ],
 "metadata": {
  "language_info": {
   "name": "python"
  }
 },
 "nbformat": 4,
 "nbformat_minor": 2
}
