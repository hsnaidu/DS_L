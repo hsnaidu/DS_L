{
 "cells": [
  {
   "cell_type": "code",
   "execution_count": 3,
   "metadata": {},
   "outputs": [
    {
     "name": "stdout",
     "output_type": "stream",
     "text": [
      "Training set X: [20 32 51  0 54 10 36 21 48  6 61 90 25 29 24 93 95 85 41 99 97  1 16  5\n",
      " 64 18 89 34 42 35 43 57 23 46 44 60 78 94 96 13 28 87 98  3 22 88 58 14\n",
      " 30 52  8 84 53 49 73 59 83 55 74 31 19 71 12 65 50 56 37  7 91 70]\n",
      "Testing set X: [79 75 63 15 38 11 40 45 39 62 86  4 47 27 81 17 82 33  9 92 72 66 69 67\n",
      " 26 68 77  2 76 80]\n",
      "Training labels y: [20 32 51  0 54 10 36 21 48  6 61 90 25 29 24 93 95 85 41 99 97  1 16  5\n",
      " 64 18 89 34 42 35 43 57 23 46 44 60 78 94 96 13 28 87 98  3 22 88 58 14\n",
      " 30 52  8 84 53 49 73 59 83 55 74 31 19 71 12 65 50 56 37  7 91 70]\n",
      "Testing labels y: [79 75 63 15 38 11 40 45 39 62 86  4 47 27 81 17 82 33  9 92 72 66 69 67\n",
      " 26 68 77  2 76 80]\n"
     ]
    }
   ],
   "source": [
    "from sklearn.model_selection import train_test_split\n",
    "import numpy as np\n",
    "\n",
    "# Generate data for the example (values from 0 to 99)\n",
    "data = np.arange(100)\n",
    "\n",
    "# Split the data into training and testing sets\n",
    "X_train, X_test, y_train, y_test = train_test_split(data, data, test_size=0.3, random_state=40)\n",
    "\n",
    "# Display the training and testing sets\n",
    "print(\"Training set X:\", X_train) # array values remain same how many-ever times i run the code it dosent change meaning it wont keep differing the accuracy every time i run the code\n",
    "print(\"Testing set X:\", X_test)\n",
    "print(\"Training labels y:\", y_train)\n",
    "print(\"Testing labels y:\", y_test)"
   ]
  },
  {
   "cell_type": "code",
   "execution_count": null,
   "metadata": {},
   "outputs": [],
   "source": []
  }
 ],
 "metadata": {
  "kernelspec": {
   "display_name": "base",
   "language": "python",
   "name": "python3"
  },
  "language_info": {
   "codemirror_mode": {
    "name": "ipython",
    "version": 3
   },
   "file_extension": ".py",
   "mimetype": "text/x-python",
   "name": "python",
   "nbconvert_exporter": "python",
   "pygments_lexer": "ipython3",
   "version": "3.11.5"
  }
 },
 "nbformat": 4,
 "nbformat_minor": 2
}
