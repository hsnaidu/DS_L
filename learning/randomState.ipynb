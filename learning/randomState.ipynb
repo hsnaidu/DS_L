{
 "cells": [
  {
   "cell_type": "code",
   "execution_count": 5,
   "metadata": {},
   "outputs": [
    {
     "name": "stdout",
     "output_type": "stream",
     "text": [
      "Training set X: [25 34  1 69 76 52 51 91  4  7 32 46 27 57 41 63  0 65 99 77 74 86 18 68\n",
      " 66 11 50 19 60 59 42 29 16 45 48 61 67 70 93 21 14 43 35 23 44 85 47 82\n",
      " 81  2 24 39 80  3 53 98 37 12 88 38 56  9 22 49 20 55 90 73 75 54]\n",
      "Testing set X: [72 31 13 83 33  8 26 89 64 97 94 84 10 17 95 79 30 62 92 96 36 28  5 40\n",
      " 58 78  6 71 15 87]\n",
      "Training labels y: [25 34  1 69 76 52 51 91  4  7 32 46 27 57 41 63  0 65 99 77 74 86 18 68\n",
      " 66 11 50 19 60 59 42 29 16 45 48 61 67 70 93 21 14 43 35 23 44 85 47 82\n",
      " 81  2 24 39 80  3 53 98 37 12 88 38 56  9 22 49 20 55 90 73 75 54]\n",
      "Testing labels y: [72 31 13 83 33  8 26 89 64 97 94 84 10 17 95 79 30 62 92 96 36 28  5 40\n",
      " 58 78  6 71 15 87]\n"
     ]
    }
   ],
   "source": [
    "from sklearn.model_selection import train_test_split\n",
    "import numpy as np\n",
    "\n",
    "# Generate data for the example (values from 0 to 99)\n",
    "data = np.arange(100)\n",
    "ss\n",
    "# Split the data into training and testing sets\n",
    "X_train, X_test, y_train, y_test = train_test_split(data, data, test_size=0.3,random_state=69)\n",
    "\n",
    "# Display the training and testing sets\n",
    "print(\"Training set X:\", X_train) # array values remain same how many-ever times i run the code it dosent change meaning it wont keep differing the accuracy every time i run the code\n",
    "print(\"Testing set X:\", X_test)\n",
    "print(\"Training labels y:\", y_train)\n",
    "print(\"Testing labels y:\", y_test)"
   ]
  }
 ],
 "metadata": {
  "kernelspec": {
   "display_name": "base",
   "language": "python",
   "name": "python3"
  },
  "language_info": {
   "codemirror_mode": {
    "name": "ipython",
    "version": 3
   },
   "file_extension": ".py",
   "mimetype": "text/x-python",
   "name": "python",
   "nbconvert_exporter": "python",
   "pygments_lexer": "ipython3",
   "version": "3.11.5"
  }
 },
 "nbformat": 4,
 "nbformat_minor": 2
}
