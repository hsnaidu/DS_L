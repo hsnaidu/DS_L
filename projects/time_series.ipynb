{
 "cells": [
  {
   "cell_type": "code",
   "execution_count": 50,
   "metadata": {},
   "outputs": [],
   "source": [
    "import pandas as pd\n",
    "import numpy as np\n"
   ]
  },
  {
   "cell_type": "markdown",
   "metadata": {},
   "source": [
    "TIME SERIES ANALYSIS IN PANDAS : Data Points Indexed in Time / Date Order"
   ]
  },
  {
   "cell_type": "markdown",
   "metadata": {},
   "source": [
    "* Used in Finance \n",
    "* Downloading the AAPL Data"
   ]
  },
  {
   "cell_type": "markdown",
   "metadata": {},
   "source": [
    "= GOOGLEFINANCE(\"NASDAQ:GOOG\", \"price\", DATE(2014,1,1), DATE(2014,12,31), \"DAILY\") : To download Sheet\n",
    "* https://support.google.com/docs/answer/3093281?hl=en"
   ]
  },
  {
   "cell_type": "markdown",
   "metadata": {},
   "source": [
    "When ever you have date in string formate : 31-jul-2014 to convert it into a date formate we use :"
   ]
  },
  {
   "cell_type": "code",
   "execution_count": 51,
   "metadata": {},
   "outputs": [],
   "source": [
    "# df = pd.read_excel('C:\\\\Users\\\\harip\\\\Desktop\\\\Projects\\\\projects\\\\dataset\\\\APPL.xlsx',parse_dates=[\"Date\"])\n",
    "# df.head()"
   ]
  },
  {
   "cell_type": "code",
   "execution_count": 52,
   "metadata": {},
   "outputs": [
    {
     "data": {
      "text/html": [
       "<div>\n",
       "<style scoped>\n",
       "    .dataframe tbody tr th:only-of-type {\n",
       "        vertical-align: middle;\n",
       "    }\n",
       "\n",
       "    .dataframe tbody tr th {\n",
       "        vertical-align: top;\n",
       "    }\n",
       "\n",
       "    .dataframe thead th {\n",
       "        text-align: right;\n",
       "    }\n",
       "</style>\n",
       "<table border=\"1\" class=\"dataframe\">\n",
       "  <thead>\n",
       "    <tr style=\"text-align: right;\">\n",
       "      <th></th>\n",
       "      <th>Date</th>\n",
       "      <th>Open</th>\n",
       "      <th>High</th>\n",
       "      <th>Low</th>\n",
       "      <th>Close</th>\n",
       "      <th>Volume</th>\n",
       "    </tr>\n",
       "  </thead>\n",
       "  <tbody>\n",
       "    <tr>\n",
       "      <th>0</th>\n",
       "      <td>2023-01-03 16:00:00.288</td>\n",
       "      <td>130.28</td>\n",
       "      <td>130.90</td>\n",
       "      <td>124.17</td>\n",
       "      <td>125.07</td>\n",
       "      <td>112117471</td>\n",
       "    </tr>\n",
       "    <tr>\n",
       "      <th>1</th>\n",
       "      <td>2023-01-04 16:00:00.288</td>\n",
       "      <td>126.89</td>\n",
       "      <td>128.66</td>\n",
       "      <td>125.08</td>\n",
       "      <td>126.36</td>\n",
       "      <td>89113633</td>\n",
       "    </tr>\n",
       "    <tr>\n",
       "      <th>2</th>\n",
       "      <td>2023-01-05 16:00:00.288</td>\n",
       "      <td>127.13</td>\n",
       "      <td>127.77</td>\n",
       "      <td>124.76</td>\n",
       "      <td>125.02</td>\n",
       "      <td>80962708</td>\n",
       "    </tr>\n",
       "    <tr>\n",
       "      <th>3</th>\n",
       "      <td>2023-01-06 16:00:00.288</td>\n",
       "      <td>126.01</td>\n",
       "      <td>130.29</td>\n",
       "      <td>124.89</td>\n",
       "      <td>129.62</td>\n",
       "      <td>87754715</td>\n",
       "    </tr>\n",
       "    <tr>\n",
       "      <th>4</th>\n",
       "      <td>2023-01-09 16:00:00.288</td>\n",
       "      <td>130.47</td>\n",
       "      <td>133.41</td>\n",
       "      <td>129.89</td>\n",
       "      <td>130.15</td>\n",
       "      <td>70790813</td>\n",
       "    </tr>\n",
       "  </tbody>\n",
       "</table>\n",
       "</div>"
      ],
      "text/plain": [
       "                     Date    Open    High     Low   Close     Volume\n",
       "0 2023-01-03 16:00:00.288  130.28  130.90  124.17  125.07  112117471\n",
       "1 2023-01-04 16:00:00.288  126.89  128.66  125.08  126.36   89113633\n",
       "2 2023-01-05 16:00:00.288  127.13  127.77  124.76  125.02   80962708\n",
       "3 2023-01-06 16:00:00.288  126.01  130.29  124.89  129.62   87754715\n",
       "4 2023-01-09 16:00:00.288  130.47  133.41  129.89  130.15   70790813"
      ]
     },
     "execution_count": 52,
     "metadata": {},
     "output_type": "execute_result"
    }
   ],
   "source": [
    "df = pd.read_excel('C:\\\\Users\\\\harip\\\\Desktop\\\\Projects\\\\projects\\\\dataset\\\\APPL.xlsx')\n",
    "df.head()"
   ]
  },
  {
   "cell_type": "code",
   "execution_count": 53,
   "metadata": {},
   "outputs": [
    {
     "name": "stdout",
     "output_type": "stream",
     "text": [
      "2023-01-03 16:00:00.288000\n"
     ]
    }
   ],
   "source": [
    "type(df['Date'][0]) # comes in time stamp\n",
    "# date col 0th element\n",
    "print(df['Date'][0])"
   ]
  },
  {
   "cell_type": "code",
   "execution_count": 54,
   "metadata": {},
   "outputs": [
    {
     "data": {
      "text/html": [
       "<div>\n",
       "<style scoped>\n",
       "    .dataframe tbody tr th:only-of-type {\n",
       "        vertical-align: middle;\n",
       "    }\n",
       "\n",
       "    .dataframe tbody tr th {\n",
       "        vertical-align: top;\n",
       "    }\n",
       "\n",
       "    .dataframe thead th {\n",
       "        text-align: right;\n",
       "    }\n",
       "</style>\n",
       "<table border=\"1\" class=\"dataframe\">\n",
       "  <thead>\n",
       "    <tr style=\"text-align: right;\">\n",
       "      <th></th>\n",
       "      <th>Date</th>\n",
       "      <th>Open</th>\n",
       "      <th>High</th>\n",
       "      <th>Low</th>\n",
       "      <th>Close</th>\n",
       "      <th>Volume</th>\n",
       "    </tr>\n",
       "    <tr>\n",
       "      <th>Date</th>\n",
       "      <th></th>\n",
       "      <th></th>\n",
       "      <th></th>\n",
       "      <th></th>\n",
       "      <th></th>\n",
       "      <th></th>\n",
       "    </tr>\n",
       "  </thead>\n",
       "  <tbody>\n",
       "    <tr>\n",
       "      <th>2023-01-03 16:00:00.288</th>\n",
       "      <td>2023-01-03 16:00:00.288</td>\n",
       "      <td>130.28</td>\n",
       "      <td>130.90</td>\n",
       "      <td>124.17</td>\n",
       "      <td>125.07</td>\n",
       "      <td>112117471</td>\n",
       "    </tr>\n",
       "    <tr>\n",
       "      <th>2023-01-04 16:00:00.288</th>\n",
       "      <td>2023-01-04 16:00:00.288</td>\n",
       "      <td>126.89</td>\n",
       "      <td>128.66</td>\n",
       "      <td>125.08</td>\n",
       "      <td>126.36</td>\n",
       "      <td>89113633</td>\n",
       "    </tr>\n",
       "    <tr>\n",
       "      <th>2023-01-05 16:00:00.288</th>\n",
       "      <td>2023-01-05 16:00:00.288</td>\n",
       "      <td>127.13</td>\n",
       "      <td>127.77</td>\n",
       "      <td>124.76</td>\n",
       "      <td>125.02</td>\n",
       "      <td>80962708</td>\n",
       "    </tr>\n",
       "    <tr>\n",
       "      <th>2023-01-06 16:00:00.288</th>\n",
       "      <td>2023-01-06 16:00:00.288</td>\n",
       "      <td>126.01</td>\n",
       "      <td>130.29</td>\n",
       "      <td>124.89</td>\n",
       "      <td>129.62</td>\n",
       "      <td>87754715</td>\n",
       "    </tr>\n",
       "    <tr>\n",
       "      <th>2023-01-09 16:00:00.288</th>\n",
       "      <td>2023-01-09 16:00:00.288</td>\n",
       "      <td>130.47</td>\n",
       "      <td>133.41</td>\n",
       "      <td>129.89</td>\n",
       "      <td>130.15</td>\n",
       "      <td>70790813</td>\n",
       "    </tr>\n",
       "  </tbody>\n",
       "</table>\n",
       "</div>"
      ],
      "text/plain": [
       "                                           Date    Open    High     Low  \\\n",
       "Date                                                                      \n",
       "2023-01-03 16:00:00.288 2023-01-03 16:00:00.288  130.28  130.90  124.17   \n",
       "2023-01-04 16:00:00.288 2023-01-04 16:00:00.288  126.89  128.66  125.08   \n",
       "2023-01-05 16:00:00.288 2023-01-05 16:00:00.288  127.13  127.77  124.76   \n",
       "2023-01-06 16:00:00.288 2023-01-06 16:00:00.288  126.01  130.29  124.89   \n",
       "2023-01-09 16:00:00.288 2023-01-09 16:00:00.288  130.47  133.41  129.89   \n",
       "\n",
       "                          Close     Volume  \n",
       "Date                                        \n",
       "2023-01-03 16:00:00.288  125.07  112117471  \n",
       "2023-01-04 16:00:00.288  126.36   89113633  \n",
       "2023-01-05 16:00:00.288  125.02   80962708  \n",
       "2023-01-06 16:00:00.288  129.62   87754715  \n",
       "2023-01-09 16:00:00.288  130.15   70790813  "
      ]
     },
     "execution_count": 54,
     "metadata": {},
     "output_type": "execute_result"
    }
   ],
   "source": [
    "# lets make the date col as our index\n",
    "df = df.set_index(df.Date)\n",
    "df.head()\n",
    "\n",
    "# date becomes our index but we have two Date index so we perform index_col = Date"
   ]
  },
  {
   "cell_type": "code",
   "execution_count": 56,
   "metadata": {},
   "outputs": [
    {
     "data": {
      "text/html": [
       "<div>\n",
       "<style scoped>\n",
       "    .dataframe tbody tr th:only-of-type {\n",
       "        vertical-align: middle;\n",
       "    }\n",
       "\n",
       "    .dataframe tbody tr th {\n",
       "        vertical-align: top;\n",
       "    }\n",
       "\n",
       "    .dataframe thead th {\n",
       "        text-align: right;\n",
       "    }\n",
       "</style>\n",
       "<table border=\"1\" class=\"dataframe\">\n",
       "  <thead>\n",
       "    <tr style=\"text-align: right;\">\n",
       "      <th></th>\n",
       "      <th>Open</th>\n",
       "      <th>High</th>\n",
       "      <th>Low</th>\n",
       "      <th>Close</th>\n",
       "      <th>Volume</th>\n",
       "    </tr>\n",
       "    <tr>\n",
       "      <th>Date</th>\n",
       "      <th></th>\n",
       "      <th></th>\n",
       "      <th></th>\n",
       "      <th></th>\n",
       "      <th></th>\n",
       "    </tr>\n",
       "  </thead>\n",
       "  <tbody>\n",
       "    <tr>\n",
       "      <th>2023-01-03 16:00:00.288</th>\n",
       "      <td>130.28</td>\n",
       "      <td>130.90</td>\n",
       "      <td>124.17</td>\n",
       "      <td>125.07</td>\n",
       "      <td>112117471</td>\n",
       "    </tr>\n",
       "    <tr>\n",
       "      <th>2023-01-04 16:00:00.288</th>\n",
       "      <td>126.89</td>\n",
       "      <td>128.66</td>\n",
       "      <td>125.08</td>\n",
       "      <td>126.36</td>\n",
       "      <td>89113633</td>\n",
       "    </tr>\n",
       "    <tr>\n",
       "      <th>2023-01-05 16:00:00.288</th>\n",
       "      <td>127.13</td>\n",
       "      <td>127.77</td>\n",
       "      <td>124.76</td>\n",
       "      <td>125.02</td>\n",
       "      <td>80962708</td>\n",
       "    </tr>\n",
       "    <tr>\n",
       "      <th>2023-01-06 16:00:00.288</th>\n",
       "      <td>126.01</td>\n",
       "      <td>130.29</td>\n",
       "      <td>124.89</td>\n",
       "      <td>129.62</td>\n",
       "      <td>87754715</td>\n",
       "    </tr>\n",
       "    <tr>\n",
       "      <th>2023-01-09 16:00:00.288</th>\n",
       "      <td>130.47</td>\n",
       "      <td>133.41</td>\n",
       "      <td>129.89</td>\n",
       "      <td>130.15</td>\n",
       "      <td>70790813</td>\n",
       "    </tr>\n",
       "  </tbody>\n",
       "</table>\n",
       "</div>"
      ],
      "text/plain": [
       "                           Open    High     Low   Close     Volume\n",
       "Date                                                              \n",
       "2023-01-03 16:00:00.288  130.28  130.90  124.17  125.07  112117471\n",
       "2023-01-04 16:00:00.288  126.89  128.66  125.08  126.36   89113633\n",
       "2023-01-05 16:00:00.288  127.13  127.77  124.76  125.02   80962708\n",
       "2023-01-06 16:00:00.288  126.01  130.29  124.89  129.62   87754715\n",
       "2023-01-09 16:00:00.288  130.47  133.41  129.89  130.15   70790813"
      ]
     },
     "execution_count": 56,
     "metadata": {},
     "output_type": "execute_result"
    }
   ],
   "source": [
    "df = pd.read_excel('C:\\\\Users\\\\harip\\\\Desktop\\\\Projects\\\\projects\\\\dataset\\\\APPL.xlsx',index_col='Date')\n",
    "df.head()"
   ]
  },
  {
   "cell_type": "code",
   "execution_count": 61,
   "metadata": {},
   "outputs": [
    {
     "data": {
      "text/plain": [
       "DatetimeIndex(['2023-01-03 16:00:00.288000', '2023-01-04 16:00:00.288000',\n",
       "               '2023-01-05 16:00:00.288000', '2023-01-06 16:00:00.288000',\n",
       "               '2023-01-09 16:00:00.288000', '2023-01-10 16:00:00.288000',\n",
       "               '2023-01-11 16:00:00.288000', '2023-01-12 16:00:00.288000',\n",
       "               '2023-01-13 16:00:00.288000', '2023-01-17 16:00:00.288000',\n",
       "               ...\n",
       "               '2024-03-04 16:00:00.288000', '2024-03-05 16:00:00.288000',\n",
       "               '2024-03-06 16:00:00.288000', '2024-03-07 16:00:00.288000',\n",
       "               '2024-03-08 16:00:00.288000', '2024-03-11 16:00:00.288000',\n",
       "               '2024-03-12 16:00:00.288000', '2024-03-13 16:00:00.288000',\n",
       "               '2024-03-14 16:00:00.288000', '2024-03-15 16:00:00.288000'],\n",
       "              dtype='datetime64[ns]', name='Date', length=302, freq=None)"
      ]
     },
     "execution_count": 61,
     "metadata": {},
     "output_type": "execute_result"
    }
   ],
   "source": [
    "df.index"
   ]
  },
  {
   "cell_type": "markdown",
   "metadata": {},
   "source": [
    "Lets say i only want jan some year data"
   ]
  },
  {
   "cell_type": "code",
   "execution_count": 69,
   "metadata": {},
   "outputs": [
    {
     "data": {
      "text/html": [
       "<div>\n",
       "<style scoped>\n",
       "    .dataframe tbody tr th:only-of-type {\n",
       "        vertical-align: middle;\n",
       "    }\n",
       "\n",
       "    .dataframe tbody tr th {\n",
       "        vertical-align: top;\n",
       "    }\n",
       "\n",
       "    .dataframe thead th {\n",
       "        text-align: right;\n",
       "    }\n",
       "</style>\n",
       "<table border=\"1\" class=\"dataframe\">\n",
       "  <thead>\n",
       "    <tr style=\"text-align: right;\">\n",
       "      <th></th>\n",
       "      <th>Open</th>\n",
       "      <th>High</th>\n",
       "      <th>Low</th>\n",
       "      <th>Close</th>\n",
       "      <th>Volume</th>\n",
       "    </tr>\n",
       "  </thead>\n",
       "  <tbody>\n",
       "    <tr>\n",
       "      <th>count</th>\n",
       "      <td>20.0</td>\n",
       "      <td>20.0</td>\n",
       "      <td>20.0</td>\n",
       "      <td>20.0</td>\n",
       "      <td>20.0</td>\n",
       "    </tr>\n",
       "    <tr>\n",
       "      <th>mean</th>\n",
       "      <td>135.1</td>\n",
       "      <td>137.3</td>\n",
       "      <td>133.7</td>\n",
       "      <td>135.8</td>\n",
       "      <td>72182636.2</td>\n",
       "    </tr>\n",
       "    <tr>\n",
       "      <th>std</th>\n",
       "      <td>5.9</td>\n",
       "      <td>6.1</td>\n",
       "      <td>6.4</td>\n",
       "      <td>6.6</td>\n",
       "      <td>13425866.2</td>\n",
       "    </tr>\n",
       "    <tr>\n",
       "      <th>min</th>\n",
       "      <td>126.0</td>\n",
       "      <td>127.8</td>\n",
       "      <td>124.2</td>\n",
       "      <td>125.0</td>\n",
       "      <td>54105068.0</td>\n",
       "    </tr>\n",
       "    <tr>\n",
       "      <th>25%</th>\n",
       "      <td>130.4</td>\n",
       "      <td>132.9</td>\n",
       "      <td>129.4</td>\n",
       "      <td>130.6</td>\n",
       "      <td>63985494.2</td>\n",
       "    </tr>\n",
       "    <tr>\n",
       "      <th>50%</th>\n",
       "      <td>134.5</td>\n",
       "      <td>136.8</td>\n",
       "      <td>134.0</td>\n",
       "      <td>135.2</td>\n",
       "      <td>69565874.5</td>\n",
       "    </tr>\n",
       "    <tr>\n",
       "      <th>75%</th>\n",
       "      <td>140.5</td>\n",
       "      <td>143.2</td>\n",
       "      <td>139.2</td>\n",
       "      <td>142.0</td>\n",
       "      <td>80408396.5</td>\n",
       "    </tr>\n",
       "    <tr>\n",
       "      <th>max</th>\n",
       "      <td>145.0</td>\n",
       "      <td>147.2</td>\n",
       "      <td>143.1</td>\n",
       "      <td>145.9</td>\n",
       "      <td>112117471.0</td>\n",
       "    </tr>\n",
       "  </tbody>\n",
       "</table>\n",
       "</div>"
      ],
      "text/plain": [
       "        Open   High    Low  Close       Volume\n",
       "count   20.0   20.0   20.0   20.0         20.0\n",
       "mean   135.1  137.3  133.7  135.8   72182636.2\n",
       "std      5.9    6.1    6.4    6.6   13425866.2\n",
       "min    126.0  127.8  124.2  125.0   54105068.0\n",
       "25%    130.4  132.9  129.4  130.6   63985494.2\n",
       "50%    134.5  136.8  134.0  135.2   69565874.5\n",
       "75%    140.5  143.2  139.2  142.0   80408396.5\n",
       "max    145.0  147.2  143.1  145.9  112117471.0"
      ]
     },
     "execution_count": 69,
     "metadata": {},
     "output_type": "execute_result"
    }
   ],
   "source": [
    "df.loc[\"2023-01\"]\n",
    "# so doing this i get all the data of the date on 2023\n",
    "# now to this we can add out stat's methods \n",
    "round(df.loc[\"2023-01\"].describe(),1)"
   ]
  },
  {
   "cell_type": "code",
   "execution_count": null,
   "metadata": {},
   "outputs": [],
   "source": []
  }
 ],
 "metadata": {
  "kernelspec": {
   "display_name": "base",
   "language": "python",
   "name": "python3"
  },
  "language_info": {
   "codemirror_mode": {
    "name": "ipython",
    "version": 3
   },
   "file_extension": ".py",
   "mimetype": "text/x-python",
   "name": "python",
   "nbconvert_exporter": "python",
   "pygments_lexer": "ipython3",
   "version": "3.11.5"
  }
 },
 "nbformat": 4,
 "nbformat_minor": 2
}
